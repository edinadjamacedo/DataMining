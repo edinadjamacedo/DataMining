{
 "cells": [
  {
   "cell_type": "markdown",
   "metadata": {},
   "source": [
    "# Comunicação\n",
    "\n",
    "Apresente os 3 projetos desenvolvidos ao longo da disciplina para seus colegas de sala. Construa uma apresentação online, de preferência utilizando o [github.io](https://pages.github.com/), [medium](https://medium.com/) ou [linkedIn](https://www.linkedin.com/) deixando claro cada decisão tomanda ao longo do semestre, acertos, erros suas conclusões, suas maiores dificuldades e perspectivas de melhorias. \n",
    "\n",
    "Obs: \n",
    "* O uso de powerpoint está proibido.\n",
    "* Esteja preparado para receber perguntas dos colegas e do professor\n",
    "* Impulsionarei os melhores projetos nas minhas mídias sociais\n"
   ]
  },
  {
   "cell_type": "code",
   "execution_count": null,
   "metadata": {
    "collapsed": true
   },
   "outputs": [],
   "source": []
  }
 ],
 "metadata": {
  "kernelspec": {
   "display_name": "Python 2",
   "language": "python",
   "name": "python2"
  },
  "language_info": {
   "codemirror_mode": {
    "name": "ipython",
    "version": 2
   },
   "file_extension": ".py",
   "mimetype": "text/x-python",
   "name": "python",
   "nbconvert_exporter": "python",
   "pygments_lexer": "ipython2",
   "version": "2.7.10"
  }
 },
 "nbformat": 4,
 "nbformat_minor": 0
}
