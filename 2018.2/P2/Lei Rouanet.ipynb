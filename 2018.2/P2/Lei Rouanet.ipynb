{
 "cells": [
  {
   "cell_type": "markdown",
   "metadata": {},
   "source": [
    "# Lei Rouanet"
   ]
  },
  {
   "cell_type": "markdown",
   "metadata": {},
   "source": [
    "Principal mecanismo de fomento à Cultura do Brasil, a [Lei Rouanet](http://dados.gov.br/dataset/incentivos-da-lei-rouanet), como é conhecida a Lei 8.313/91, instituiu o Programa Nacional de Apoio à Cultura (Pronac). O nome Rouanet remete a seu criador, o então secretário Nacional de Cultura, o diplomata Sérgio Paulo Rouanet. Para cumprir este objetivo, a lei estabelece as normativas de como o Governo Federal deve disponibilizar recursos para a realização de projetos artístico-culturais. A Lei foi concebida originalmente com três mecanismos: o Fundo Nacional da Cultura (FNC), o Incentivo Fiscal e o Fundo de Investimento Cultural e Artístico (Ficart). Este nunca foi implementado, enquanto o Incentivo Fiscal - também chamado de mecenato - prevaleceu e chega ser confundido com a própria Lei.\n",
    "\n",
    "Mais informações sobre a Lei Rouanet podem ser obtidos em seu portal: http://rouanet.cultura.gov.br/"
   ]
  },
  {
   "cell_type": "markdown",
   "metadata": {},
   "source": [
    " ## É-lhe pedido:"
   ]
  },
  {
   "cell_type": "markdown",
   "metadata": {},
   "source": [
    "* 0) Obtenha os dados da [Lei Rouanet](http://dados.gov.br/dataset/incentivos-da-lei-rouanet) e organize-os em um banco de dados relacional ou diretamente na sua linguaguem de programação.\n",
    "* 1) Apresente os tipos de todas as variáveis e seus índices de tendência central quando for possível.\n",
    "* 2) Analise a poluição dos dados. Há dados nulos, vazios, problemáticos? Quantos? Quais? Como resolver? (Aproveite e resolva)\n",
    "* 3) Apresente ao menos uma forma de medir a similaridade entre projetos aprovados e outra para projetos não aprovados.\n",
    "* 4) Qual o projeto recebeu o maior investimento?\n",
    "* 5) Qual empresa investiu mais na Lei Rouanet ao longo do tempo?\n",
    "* 6) Qual foi a empresa mais beneficiada ao longo do tempo?\n",
    "* 7) Há algum solicitante que sempre ganha?\n",
    "* 8) Consegue associar algum CNPJ a algum artista conhecido?\n",
    "* 9) Apresente suas conclusões e hipóteses para o futuro baseado nos fatos encontrados."
   ]
  },
  {
   "cell_type": "markdown",
   "metadata": {},
   "source": []
  },
  {
   "cell_type": "markdown",
   "metadata": {},
   "source": []
  },
  {
   "cell_type": "markdown",
   "metadata": {},
   "source": []
  },
  {
   "cell_type": "markdown",
   "metadata": {},
   "source": []
  },
  {
   "cell_type": "markdown",
   "metadata": {},
   "source": []
  },
  {
   "cell_type": "code",
   "execution_count": null,
   "metadata": {
    "collapsed": true
   },
   "outputs": [],
   "source": []
  }
 ],
 "metadata": {
  "kernelspec": {
   "display_name": "Python 2",
   "language": "python",
   "name": "python2"
  },
  "language_info": {
   "codemirror_mode": {
    "name": "ipython",
    "version": 2
   },
   "file_extension": ".py",
   "mimetype": "text/x-python",
   "name": "python",
   "nbconvert_exporter": "python",
   "pygments_lexer": "ipython2",
   "version": "2.7.10"
  }
 },
 "nbformat": 4,
 "nbformat_minor": 0
}
