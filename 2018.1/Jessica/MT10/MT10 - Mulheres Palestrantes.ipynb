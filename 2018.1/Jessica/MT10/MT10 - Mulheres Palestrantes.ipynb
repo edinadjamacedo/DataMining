{
 "cells": [
  {
   "cell_type": "code",
   "execution_count": 19,
   "metadata": {},
   "outputs": [],
   "source": [
    "#coding: utf-8\n",
    "\n",
    "from lxml import html \n",
    "from lxml import etree \n",
    "import psycopg2\n",
    "\n",
    "\n",
    "con = psycopg2.connect(host=\"localhost\", database=\"mulheres_palestrantes\", user='postgres', password='root')\n",
    "cur = con.cursor()\n",
    "\n",
    "       \n",
    "if __name__ == \"__main__\":\n",
    "\n",
    "    arquivo = open(r'C:\\Users\\jessi\\mulheres_palestrantes.html').read()\n",
    "    pagina = etree.HTML(arquivo)\n",
    "\n",
    "   \n",
    "    nomes = pagina.xpath('//article[@class=\"card\"]/h3/text()')\n",
    "    fotos = pagina.xpath('//article[@class=\"card\"]/img/@src')\n",
    "    localizacoes = pagina.xpath('//article[@class=\"card\"]/div/p[@class=\"location\"]/text()')    \n",
    "    \n",
    "    cards = pagina.xpath('//article[@class=\"card\"]/ul')\n",
    "    temas_de_interesse = pagina.xpath('//article[@class=\"card\"]/ul/li/text()')\n",
    "        \n",
    "    \n",
    "    participantes = []\n",
    "    \n",
    "    \n",
    "    for nome,foto,localizacao in zip(nomes,fotos,localizacoes):\n",
    "        participante = {'nome':nome, 'foto':foto, 'localizacao':localizacao}\n",
    "        participantes.append(participante)\n",
    "        cur.execute(\"insert into palestrantes values (%s, %s, %s)\", [nome, foto, localizacao])\n",
    "        con.commit()\n",
    "            \n",
    "            \n",
    "    for card in cards: \n",
    "        temas = ([tema.text for tema in card.getchildren()])\n",
    "        cur.execute(\"insert into temas_de_interesse values (%s)\", [temas])\n",
    "        con.commit()\n",
    "          \n",
    "            \n"
   ]
  },
  {
   "cell_type": "code",
   "execution_count": null,
   "metadata": {},
   "outputs": [],
   "source": []
  }
 ],
 "metadata": {
  "kernelspec": {
   "display_name": "Python 3",
   "language": "python",
   "name": "python3"
  },
  "language_info": {
   "codemirror_mode": {
    "name": "ipython",
    "version": 3
   },
   "file_extension": ".py",
   "mimetype": "text/x-python",
   "name": "python",
   "nbconvert_exporter": "python",
   "pygments_lexer": "ipython3",
   "version": "3.6.5"
  }
 },
 "nbformat": 4,
 "nbformat_minor": 2
}
