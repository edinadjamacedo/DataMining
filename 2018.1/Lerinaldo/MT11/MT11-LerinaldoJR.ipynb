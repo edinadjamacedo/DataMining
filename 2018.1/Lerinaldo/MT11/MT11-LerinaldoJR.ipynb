{
 "cells": [
  {
   "cell_type": "code",
   "execution_count": 1,
   "metadata": {},
   "outputs": [],
   "source": [
    "import pandas as pd"
   ]
  },
  {
   "cell_type": "code",
   "execution_count": 14,
   "metadata": {},
   "outputs": [],
   "source": [
    "import matplotlib.pyplot as plt\n",
    "import numpy as np"
   ]
  },
  {
   "cell_type": "markdown",
   "metadata": {},
   "source": [
    "<b>Observação importante:</b> as despesas de todos os campus da UFERSA (Caraúbas, Pau dos Ferros e Mossoró) são disponibilizadas em formas de tabelas (que podem ser copiadas) facilitando a bastante a análise dos dados por partes interessadas, que buscam sugerir ideias e ajudar na fiscalização da utilização do dinheiro público, além de possuírem notas explicativas em relação a alguns gastos, garantido a integridade dos valores e evitando que esses dados sejam editados posteriormente sem que isso seja percebido e/ou provado, a única exceção ocorre com a UFERSA - Campus angicos, que disponibiliza os dados de suas despesas de uma forma bastante desorganizada e apenas em formato de imagens (que são bastante complicadas de serem analisadas.) \n",
    "\n",
    "Campus Angicos: https://angicos.ufersa.edu.br/demonstrativo-de-despesas/<br>\n",
    "Campus Pau dos Ferros: https://paudosferros.ufersa.edu.br/demonstrativo-de-despesas/<br>\n",
    "Campus Caraubas: https://caraubas.ufersa.edu.br/demonstrativo-de-despesas/ <br>\n",
    "\n",
    "De acordo com o valor informado gasto com energia em janeiro de 2017, poucas pessoas utilizaram o campus (periodo de férias), porque o valor gasto com limpeza e vigilancia são os mais altos do ano durante esse periodo? \n",
    "\n",
    "Porque os valores gastos no mês de dezembro de 2017 com água, energia, limpeza, portaria e motorista não são mostrados?\n",
    " \n"
   ]
  },
  {
   "cell_type": "markdown",
   "metadata": {},
   "source": [
    "# 1. Quanto foi gasto com energia na UFERSA - Campus Angicos nos ultimos 3 anos?"
   ]
  },
  {
   "cell_type": "markdown",
   "metadata": {},
   "source": [
    "2015: 334.345,66 R$\n",
    "2016: 415.759,70 R$\n",
    "2017: 408.547,34 R$  \n",
    "\n",
    "TOTAL = 1.158.652,7 R$ Gastos nos ultimos 3 anos. \n"
   ]
  },
  {
   "cell_type": "code",
   "execution_count": null,
   "metadata": {},
   "outputs": [],
   "source": []
  },
  {
   "cell_type": "code",
   "execution_count": null,
   "metadata": {},
   "outputs": [],
   "source": []
  },
  {
   "cell_type": "markdown",
   "metadata": {},
   "source": [
    "# 2. Qual seria os gastos aproximados para construir uma Usina Solar Fotovoltaica? \n"
   ]
  },
  {
   "cell_type": "markdown",
   "metadata": {},
   "source": [
    "De acordo com a UFERSA - Campus Mossoro é nescessario aproximadamente um milhão de reais para construir uma usina de aproximadamente 580 paineis, que gera aproximadamente 18.000 kWh/mês. \n",
    "\n",
    "( https://usinasolar.ufersa.edu.br/historico/ )  "
   ]
  },
  {
   "cell_type": "code",
   "execution_count": null,
   "metadata": {},
   "outputs": [],
   "source": []
  },
  {
   "cell_type": "code",
   "execution_count": null,
   "metadata": {},
   "outputs": [],
   "source": []
  },
  {
   "cell_type": "markdown",
   "metadata": {},
   "source": [
    "# 3. Qual seria aproximadamente a economia com gastos de energia da UFERSA em 10 anos? \n"
   ]
  },
  {
   "cell_type": "markdown",
   "metadata": {},
   "source": [
    "Formula: 7k * 12 = 84k\n",
    "\n",
    "84.000 * 10 = 840.000"
   ]
  },
  {
   "cell_type": "code",
   "execution_count": null,
   "metadata": {},
   "outputs": [],
   "source": []
  }
 ],
 "metadata": {
  "kernelspec": {
   "display_name": "Python 3",
   "language": "python",
   "name": "python3"
  },
  "language_info": {
   "codemirror_mode": {
    "name": "ipython",
    "version": 3
   },
   "file_extension": ".py",
   "mimetype": "text/x-python",
   "name": "python",
   "nbconvert_exporter": "python",
   "pygments_lexer": "ipython3",
   "version": "3.6.5"
  }
 },
 "nbformat": 4,
 "nbformat_minor": 2
}
